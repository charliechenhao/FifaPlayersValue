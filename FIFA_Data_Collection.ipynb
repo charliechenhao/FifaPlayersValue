{
 "cells": [
  {
   "cell_type": "code",
   "execution_count": 1,
   "metadata": {},
   "outputs": [],
   "source": [
    "import requests\n",
    "import datetime\n",
    "from datetime import date\n",
    "import pandas as pd\n",
    "import numpy as np\n",
    "from bs4 import BeautifulSoup"
   ]
  },
  {
   "cell_type": "markdown",
   "metadata": {},
   "source": [
    "### Get list of each player's ID"
   ]
  },
  {
   "cell_type": "code",
   "execution_count": 2,
   "metadata": {},
   "outputs": [],
   "source": [
    "NameList = []\n",
    "pageid=0\n",
    "for pageid in range(656):\n",
    "    page = requests.get(\"https://www.fifaindex.com/players/{}/\".format(pageid+1))\n",
    "    soup = BeautifulSoup(page.content, 'html.parser') \n",
    "    PlayerList = soup.find_all(class_='player')\n",
    "    if PlayerList == []:\n",
    "        break\n",
    "    else:\n",
    "        i=0\n",
    "        while i < len(PlayerList)/2:\n",
    "            name = PlayerList[2*i].find('a').get('href')\n",
    "            NameList.append(name)\n",
    "            i=i+1\n",
    "    pageid = pageid+1\n",
    "    \n",
    "playernamelist=pd.DataFrame(NameList)\n",
    "playernamelist.to_csv('playernamelist.csv')"
   ]
  },
  {
   "cell_type": "markdown",
   "metadata": {},
   "source": [
    "### Define the keys needed and read in file"
   ]
  },
  {
   "cell_type": "code",
   "execution_count": 2,
   "metadata": {},
   "outputs": [],
   "source": [
    "keys = ['Player', \n",
    "        'Height ',\n",
    "        'Weight ', \n",
    "        'Preferred Foot ', \n",
    "        'Birth Date ', \n",
    "        'Age ', \n",
    "        'Preferred Positions ',\n",
    "        'Player Work Rate ',\n",
    "         'Weak Foot ',\n",
    "         'Skill Moves ',\n",
    "         'Value ',\n",
    "         'Wage ',\n",
    "         'Ball Control ',\n",
    "         'Dribbling ',\n",
    "         'Marking ',\n",
    "         'Slide Tackle ',\n",
    "         'Stand Tackle ',\n",
    "         'Aggression ',\n",
    "         'Reactions ',\n",
    "         'Att. Position ',\n",
    "         'Interceptions ',\n",
    "         'Vision ',\n",
    "         'Composure ',\n",
    "         'Crossing ',\n",
    "         'Short Pass ',\n",
    "         'Long Pass ',\n",
    "         'Acceleration ',\n",
    "         'Stamina ',\n",
    "         'Strength ',\n",
    "         'Balance ',\n",
    "         'Sprint Speed ',\n",
    "         'Agility ',\n",
    "         'Jumping ',\n",
    "         'Heading ',\n",
    "         'Shot Power ',\n",
    "         'Finishing ',\n",
    "         'Long Shots ',\n",
    "         'Curve ',\n",
    "         'FK Acc. ',\n",
    "         'Penalties ',\n",
    "         'Volleys ',\n",
    "         'GK Positioning ',\n",
    "         'GK Diving ',\n",
    "         'GK Handling ',\n",
    "         'GK Kicking ',\n",
    "         'GK Reflexes ']\n",
    "\n",
    "datafile=pd.read_csv('C:/Users/HHHHH/playernamelist.csv')\n",
    "NameList=datafile['0'].values.tolist()"
   ]
  },
  {
   "cell_type": "markdown",
   "metadata": {},
   "source": [
    "### Start to collect data for each players. Run in several batches due to the size"
   ]
  },
  {
   "cell_type": "code",
   "execution_count": 4,
   "metadata": {},
   "outputs": [],
   "source": [
    "df=pd.DataFrame([])\n",
    "p=0\n",
    "#for p in range(len(NameList)-15000):\n",
    "for p in range(14001,len(NameList)):\n",
    "    #playerpage = requests.get(\"https://www.fifaindex.com{}\".format(NameList[p]))\n",
    "    playerpage = requests.get(\"https://www.fifaindex.com{}\".format(NameList[p]))\n",
    "    playersoup = BeautifulSoup(playerpage.content, 'html.parser') \n",
    "    name = playersoup.find_all('h1')[0].find(text=True)\n",
    "    Alldata = playersoup.find_all(class_='card mb-5')\n",
    "    Score=''\n",
    "    Category=''\n",
    "    PlayerCard={}\n",
    "    contents=[name]\n",
    "    header=['Player']\n",
    "    q=1\n",
    "    while q < len(Alldata):\n",
    "        Para = Alldata[q].findAll('p')\n",
    "        c=0\n",
    "        while c < len(Para): \n",
    "            try:\n",
    "                Score=str(Para[c].findAll('span')[0].find(text=True))\n",
    "                Category=str(Para[c].find(text=True))\n",
    "                contents.append(Score)\n",
    "                header.append(Category)\n",
    "                c=c+1\n",
    "            except:\n",
    "                break\n",
    "        q=q+1\n",
    "    PlayerCard = dict(zip(header, contents))\n",
    "    test = list(map(PlayerCard.get, keys) )\n",
    "    test = pd.DataFrame(test).transpose()\n",
    "    #test.columns=keys\n",
    "    #test.set_index([\"Player\"])\n",
    "    #df.append(test)\n",
    "    df = pd.concat([df, test])\n",
    "    #df = pd.concat([df, test], ignore_index=True)\n",
    "    p=p+1\n",
    " \n",
    "df.columns=keys\n",
    "df.to_csv('df4.csv')"
   ]
  }
 ],
 "metadata": {
  "kernelspec": {
   "display_name": "Python 3",
   "language": "python",
   "name": "python3"
  },
  "language_info": {
   "codemirror_mode": {
    "name": "ipython",
    "version": 3
   },
   "file_extension": ".py",
   "mimetype": "text/x-python",
   "name": "python",
   "nbconvert_exporter": "python",
   "pygments_lexer": "ipython3",
   "version": "3.7.3"
  }
 },
 "nbformat": 4,
 "nbformat_minor": 2
}
