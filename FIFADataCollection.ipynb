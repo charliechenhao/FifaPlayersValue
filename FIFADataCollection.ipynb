{
 "cells": [
  {
   "cell_type": "code",
   "execution_count": 1,
   "metadata": {},
   "outputs": [],
   "source": [
    "import requests\n",
    "import datetime\n",
    "from datetime import date\n",
    "import pandas as pd\n",
    "import numpy as np\n",
    "from bs4 import BeautifulSoup"
   ]
  },
  {
   "cell_type": "markdown",
   "metadata": {},
   "source": [
    "### testing for one player data"
   ]
  },
  {
   "cell_type": "code",
   "execution_count": 72,
   "metadata": {},
   "outputs": [
    {
     "name": "stdout",
     "output_type": "stream",
     "text": [
      "{'Player': 'Gastón Fernández ', 'Height ': '171 cm', 'Weight ': '70 kg', 'Preferred Foot ': 'Right', 'Birth Date ': 'Oct. 12, 1983', 'Age ': '36', 'Preferred Positions ': 'CAM', 'Player Work Rate ': 'Medium / Low', 'Weak Foot ': 'None', 'Skill Moves ': 'None', 'Value ': '£1.000.000', 'Wage ': '£8.100', 'Position ': 'Sub', 'Kit Number ': '10', 'Joined Club ': 'Aug. 9, 2017', 'Contract Length ': '2020', 'Ball Control ': '73', 'Dribbling ': '71', 'Marking ': '69', 'Slide Tackle ': '29', 'Stand Tackle ': '35', 'Aggression ': '56', 'Reactions ': '60', 'Att. Position ': '70', 'Interceptions ': '31', 'Vision ': '72', 'Composure ': '71', 'Crossing ': '57', 'Short Pass ': '74', 'Long Pass ': '72', 'Acceleration ': '67', 'Stamina ': '54', 'Strength ': '56', 'Balance ': '70', 'Sprint Speed ': '54', 'Agility ': '68', 'Jumping ': '68', 'Heading ': '66', 'Shot Power ': '70', 'Finishing ': '69', 'Long Shots ': '71', 'Curve ': '72', 'FK Acc. ': '74', 'Penalties ': '65', 'Volleys ': '67', 'GK Positioning ': '10', 'GK Diving ': '6', 'GK Handling ': '14', 'GK Kicking ': '16', 'GK Reflexes ': '9'}\n"
     ]
    }
   ],
   "source": [
    "page = requests.get(\"https://www.fifaindex.com/player/157219\")\n",
    "soup = BeautifulSoup(page.content, 'html.parser') \n",
    "name = soup.find_all('h1')[0].find(text=True)\n",
    "Alldata = soup.find_all(class_='card mb-5')\n",
    "contents=[name]\n",
    "header=['Player']\n",
    "i=1\n",
    "while i < len(Alldata):\n",
    "    Para = Alldata[i].findAll('p')\n",
    "    c=0\n",
    "    while c < len(Para): \n",
    "        try:\n",
    "            Score=str(Para[c].findAll('span')[0].find(text=True))\n",
    "            Category=str(Para[c].find(text=True))\n",
    "            contents.append(Score)\n",
    "            header.append(Category)\n",
    "            c=c+1\n",
    "        except:\n",
    "            break\n",
    "    i=i+1\n",
    "    \n",
    "    \n",
    "PlayerCard = dict(zip(header, contents))\n",
    "print(PlayerCard)"
   ]
  },
  {
   "cell_type": "code",
   "execution_count": null,
   "metadata": {},
   "outputs": [],
   "source": [
    "page = requests.get(\"https://www.fifaindex.com/player/158023/lionel-messi/\")\n",
    "soup = BeautifulSoup(page.content, 'html.parser') \n",
    "contents=[]\n",
    "header=[]\n",
    "c=0\n",
    "h=0\n",
    "cardbody = soup.find_all(class_='card-body')\n",
    "cardheader = soup.find_all(class_='card-header')\n",
    "card = dict(zip(cardheader, cardbody))\n",
    "while c < len(cardbody): \n",
    "    contents.append(cardbody[c].get_text().replace(\"\\n\", \"\"))\n",
    "    c=c+1\n",
    "while h < len(cardheader): \n",
    "    header.append(cardheader[h].get_text().replace(\"\\n\", \"\"))\n",
    "    h=h+1\n",
    "card = dict(zip(header, contents))\n",
    "    \n",
    "### Test 2\n",
    "page = requests.get(\"https://www.fifaindex.com/player/231747\")\n",
    "soup = BeautifulSoup(page.content, 'html.parser') \n",
    "name = soup.find_all('h1')[0].find(text=True)\n",
    "Alldata = soup.find_all(class_='card mb-5')\n",
    "contents=[name]\n",
    "header=['Player']\n",
    "i=1\n",
    "while i < len(Alldata)-2:\n",
    "    Para = Alldata[i].findAll('p')\n",
    "    c=0\n",
    "    while c < len(Para): \n",
    "        Score=str(Para[c].findAll('span')[0].find(text=True))\n",
    "        Category=str(Para[c].find(text=True))\n",
    "        contents.append(Score)\n",
    "        header.append(Category)\n",
    "#        print(Category,Score)\n",
    "        c=c+1\n",
    "    i=i+1\n",
    "    \n",
    "    \n",
    "PlayerCard = dict(zip(header, contents))\n",
    "df_m = pd.DataFrame(contents).transpose()\n",
    "df_m.columns=header\n",
    "df_m.set_index=['Player']\n",
    "print(df_m)\n",
    "\n"
   ]
  },
  {
   "cell_type": "markdown",
   "metadata": {},
   "source": [
    "### Get list of each player's page"
   ]
  },
  {
   "cell_type": "code",
   "execution_count": 2,
   "metadata": {},
   "outputs": [],
   "source": [
    "#Get the list of all players and their IDs\n",
    "\n",
    "NameList = []\n",
    "pageid=0\n",
    "for pageid in range(656):\n",
    "    page = requests.get(\"https://www.fifaindex.com/players/{}/\".format(pageid+1))\n",
    "    soup = BeautifulSoup(page.content, 'html.parser') \n",
    "    PlayerList = soup.find_all(class_='player')\n",
    "    if PlayerList == []:\n",
    "        break\n",
    "    else:\n",
    "        i=0\n",
    "        while i < len(PlayerList)/2:\n",
    "            name = PlayerList[2*i].find('a').get('href')\n",
    "            NameList.append(name)\n",
    "            i=i+1\n",
    "    pageid = pageid+1\n",
    "    \n",
    "playernamelist=pd.DataFrame(NameList)\n",
    "playernamelist.to_csv('playernamelist.csv')"
   ]
  },
  {
   "cell_type": "markdown",
   "metadata": {},
   "source": [
    "### Define Keys (or columns) we need"
   ]
  },
  {
   "cell_type": "code",
   "execution_count": 2,
   "metadata": {},
   "outputs": [],
   "source": [
    "keys = ['Player', \n",
    "        'Height ',\n",
    "        'Weight ', \n",
    "        'Preferred Foot ', \n",
    "        'Birth Date ', \n",
    "        'Age ', \n",
    "        'Preferred Positions ',\n",
    "        'Player Work Rate ',\n",
    "         'Weak Foot ',\n",
    "         'Skill Moves ',\n",
    "         'Value ',\n",
    "         'Wage ',\n",
    "         'Ball Control ',\n",
    "         'Dribbling ',\n",
    "         'Marking ',\n",
    "         'Slide Tackle ',\n",
    "         'Stand Tackle ',\n",
    "         'Aggression ',\n",
    "         'Reactions ',\n",
    "         'Att. Position ',\n",
    "         'Interceptions ',\n",
    "         'Vision ',\n",
    "         'Composure ',\n",
    "         'Crossing ',\n",
    "         'Short Pass ',\n",
    "         'Long Pass ',\n",
    "         'Acceleration ',\n",
    "         'Stamina ',\n",
    "         'Strength ',\n",
    "         'Balance ',\n",
    "         'Sprint Speed ',\n",
    "         'Agility ',\n",
    "         'Jumping ',\n",
    "         'Heading ',\n",
    "         'Shot Power ',\n",
    "         'Finishing ',\n",
    "         'Long Shots ',\n",
    "         'Curve ',\n",
    "         'FK Acc. ',\n",
    "         'Penalties ',\n",
    "         'Volleys ',\n",
    "         'GK Positioning ',\n",
    "         'GK Diving ',\n",
    "         'GK Handling ',\n",
    "         'GK Kicking ',\n",
    "         'GK Reflexes ']"
   ]
  },
  {
   "cell_type": "markdown",
   "metadata": {},
   "source": [
    "### Get csv file for the player's list"
   ]
  },
  {
   "cell_type": "code",
   "execution_count": 3,
   "metadata": {},
   "outputs": [],
   "source": [
    "datafile=pd.read_csv('C:/Users/v-cheha/playernamelist.csv')\n",
    "#datafile['0'].head()\n",
    "NameList=datafile['0'].values.tolist()\n"
   ]
  },
  {
   "cell_type": "markdown",
   "metadata": {},
   "source": [
    "### Start to collect data for each players. Run in several batches due to the size"
   ]
  },
  {
   "cell_type": "code",
   "execution_count": 4,
   "metadata": {},
   "outputs": [],
   "source": [
    "df=pd.DataFrame([])\n",
    "p=0\n",
    "#for p in range(len(NameList)-15000):\n",
    "for p in range(14001,len(NameList)):\n",
    "    #playerpage = requests.get(\"https://www.fifaindex.com{}\".format(NameList[p]))\n",
    "    playerpage = requests.get(\"https://www.fifaindex.com{}\".format(NameList[p]))\n",
    "    playersoup = BeautifulSoup(playerpage.content, 'html.parser') \n",
    "    name = playersoup.find_all('h1')[0].find(text=True)\n",
    "    Alldata = playersoup.find_all(class_='card mb-5')\n",
    "    Score=''\n",
    "    Category=''\n",
    "    PlayerCard={}\n",
    "    contents=[name]\n",
    "    header=['Player']\n",
    "    q=1\n",
    "    while q < len(Alldata):\n",
    "        Para = Alldata[q].findAll('p')\n",
    "        c=0\n",
    "        while c < len(Para): \n",
    "            try:\n",
    "                Score=str(Para[c].findAll('span')[0].find(text=True))\n",
    "                Category=str(Para[c].find(text=True))\n",
    "                contents.append(Score)\n",
    "                header.append(Category)\n",
    "                c=c+1\n",
    "            except:\n",
    "                break\n",
    "        q=q+1\n",
    "    PlayerCard = dict(zip(header, contents))\n",
    "    test = list(map(PlayerCard.get, keys) )\n",
    "    test = pd.DataFrame(test).transpose()\n",
    "    #test.columns=keys\n",
    "    #test.set_index([\"Player\"])\n",
    "    #df.append(test)\n",
    "    df = pd.concat([df, test])\n",
    "    #df = pd.concat([df, test], ignore_index=True)\n",
    "    p=p+1\n",
    " \n",
    "df.columns=keys\n",
    "df.to_csv('df4.csv')"
   ]
  }
 ],
 "metadata": {
  "kernelspec": {
   "display_name": "Python 3",
   "language": "python",
   "name": "python3"
  },
  "language_info": {
   "codemirror_mode": {
    "name": "ipython",
    "version": 3
   },
   "file_extension": ".py",
   "mimetype": "text/x-python",
   "name": "python",
   "nbconvert_exporter": "python",
   "pygments_lexer": "ipython3",
   "version": "3.7.3"
  }
 },
 "nbformat": 4,
 "nbformat_minor": 2
}
