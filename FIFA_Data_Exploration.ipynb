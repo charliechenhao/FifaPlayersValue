{
 "cells": [
  {
   "cell_type": "code",
   "execution_count": null,
   "metadata": {},
   "outputs": [],
   "source": [
    "import requests\n",
    "import datetime\n",
    "from datetime import date\n",
    "import pandas as pd\n",
    "import numpy as np\n",
    "from bs4 import BeautifulSoup\n",
    "import matplotlib\n",
    "import matplotlib.pyplot as plt\n",
    "from matplotlib import cm"
   ]
  },
  {
   "cell_type": "markdown",
   "metadata": {},
   "source": [
    "### input raw data"
   ]
  },
  {
   "cell_type": "code",
   "execution_count": null,
   "metadata": {},
   "outputs": [],
   "source": [
    "pd.set_option('display.max_columns', None)\n",
    "df1=pd.read_csv('C:/Users/HHHH/df1.csv')\n",
    "df2=pd.read_csv('C:/Users/HHHH/df2.csv')\n",
    "df3=pd.read_csv('C:/Users/HHHH/df3.csv')\n",
    "df4=pd.read_csv('C:/Users/HHHH/df4.csv')\n",
    "df = df1.append(df2).append(df3).append(df4)\n",
    "df.shape"
   ]
  },
  {
   "cell_type": "markdown",
   "metadata": {},
   "source": [
    "### Clean Data"
   ]
  },
  {
   "cell_type": "code",
   "execution_count": null,
   "metadata": {},
   "outputs": [],
   "source": [
    "#df.loc[(df['Acceleration '] >= 97) & (df['Dribbling '] >= 10)]"
   ]
  },
  {
   "cell_type": "code",
   "execution_count": null,
   "metadata": {},
   "outputs": [],
   "source": [
    "cols = [0,1,5,9,10,42,43,44,45,46]\n",
    "df = df.drop(df.columns[cols], axis =1).dropna(subset=['Value '])\n",
    "df = df[(df['Preferred Positions '] != 'GK')].reset_index(drop=True)\n",
    "df['Height '] = df['Height '].map(lambda x: x.split(' ')[0]).astype(int)\n",
    "df['Weight '] = df['Weight '].map(lambda x: x.split(' ')[0]).astype(int)\n",
    "df['BMI'] = df['Weight '] / (df['Height ']*df['Height ']) * 10000\n",
    "df['BMI'] = df['BMI'].astype(int)\n",
    "df['Value '] = df['Value '].str.replace(\".\", \"\").str.replace(\"£\", \"\").astype(int)\n",
    "df['Wage '] = df['Wage '].str.replace(\".\", \"\").str.replace(\"£\", \"\").astype(int)\n",
    "df['Deal'] = df['Value '] / df['Wage ']\n",
    "df['Deal'] = df['Deal'].astype(int)\n",
    "df = df.reset_index(drop=True)\n",
    "\n",
    "df.tail(2)"
   ]
  },
  {
   "cell_type": "code",
   "execution_count": null,
   "metadata": {},
   "outputs": [],
   "source": [
    "df['Player Work Rate '].describe()"
   ]
  },
  {
   "cell_type": "code",
   "execution_count": null,
   "metadata": {},
   "outputs": [],
   "source": [
    "plt.bar(df['Reactions '], df['Value '])\n",
    "\n",
    "plt.show()"
   ]
  },
  {
   "cell_type": "code",
   "execution_count": null,
   "metadata": {},
   "outputs": [],
   "source": [
    "plt.bar(df['Acceleration '], df['Value '])\n",
    "\n",
    "plt.show()"
   ]
  },
  {
   "cell_type": "code",
   "execution_count": null,
   "metadata": {},
   "outputs": [],
   "source": [
    "plt.bar(df['Preferred Positions '], df['Value '])\n",
    "\n",
    "plt.show()"
   ]
  },
  {
   "cell_type": "code",
   "execution_count": null,
   "metadata": {},
   "outputs": [],
   "source": [
    "plt.bar(df['Player Work Rate '], df['Value '])\n",
    "\n",
    "plt.show()"
   ]
  },
  {
   "cell_type": "code",
   "execution_count": null,
   "metadata": {
    "scrolled": true
   },
   "outputs": [],
   "source": [
    "plt.scatter(df['Age '], df['Value '], s=df['Deal'], c=df['BMI'])\n",
    "plt.xlabel=('Age')\n",
    "plt.show()"
   ]
  },
  {
   "cell_type": "code",
   "execution_count": null,
   "metadata": {},
   "outputs": [],
   "source": [
    "df['Dribbling '].plot(kind='hist', bins=20)\n",
    "#plt.xlabel='player value'\n",
    "plt.show()"
   ]
  },
  {
   "cell_type": "code",
   "execution_count": null,
   "metadata": {
    "scrolled": false
   },
   "outputs": [],
   "source": [
    "corr = df.corr(method ='pearson') \n",
    "\n",
    "#corr.style.background_gradient(cmap='coolwarm').set_precision(2)\n",
    "corr.style.background_gradient(cmap='coolwarm').set_properties(**{'font-size': '0pt'})"
   ]
  },
  {
   "cell_type": "code",
   "execution_count": null,
   "metadata": {},
   "outputs": [],
   "source": [
    "from matplotlib.pyplot import figure\n",
    "#figure(num=None, figsize=(200, 200), dpi=80, facecolor='w', edgecolor='k')\n",
    "plt.figure(figsize=(5,5))\n",
    "df.hist()\n",
    "plt.show()"
   ]
  }
 ],
 "metadata": {
  "kernelspec": {
   "display_name": "Python 3",
   "language": "python",
   "name": "python3"
  },
  "language_info": {
   "codemirror_mode": {
    "name": "ipython",
    "version": 3
   },
   "file_extension": ".py",
   "mimetype": "text/x-python",
   "name": "python",
   "nbconvert_exporter": "python",
   "pygments_lexer": "ipython3",
   "version": "3.7.3"
  }
 },
 "nbformat": 4,
 "nbformat_minor": 2
}
